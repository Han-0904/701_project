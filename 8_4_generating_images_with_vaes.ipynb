{
  "nbformat": 4,
  "nbformat_minor": 0,
  "metadata": {
    "kernelspec": {
      "display_name": "Python 3",
      "language": "python",
      "name": "python3"
    },
    "language_info": {
      "codemirror_mode": {
        "name": "ipython",
        "version": 3
      },
      "file_extension": ".py",
      "mimetype": "text/x-python",
      "name": "python",
      "nbconvert_exporter": "python",
      "pygments_lexer": "ipython3",
      "version": "3.8.3"
    },
    "colab": {
      "name": "8_4_generating_images_with_vaes.ipynb",
      "provenance": [],
      "collapsed_sections": [],
      "toc_visible": true
    }
  },
  "cells": [
    {
      "cell_type": "code",
      "metadata": {
        "id": "QB-hV9bDj4c9"
      },
      "source": [
        "# import keras\n",
        "# from keras import layers\n",
        "# from keras import backend as K\n",
        "# from keras.models import Model\n",
        "# keras.__version__"
      ],
      "execution_count": null,
      "outputs": []
    },
    {
      "cell_type": "markdown",
      "metadata": {
        "id": "5ik2JUytCEh4"
      },
      "source": [
        "<table align=\"left\">\r\n",
        "  <td>\r\n",
        "    <a target=\"_blank\" href=\"https://colab.research.google.com/github/Han-0904/701_project/blob/main/8_4_generating_images_with_vaes.ipynb\"><img src=\"https://www.tensorflow.org/images/colab_logo_32px.png\" />Run in Google Colab</a>\r\n",
        "  </td>\r\n",
        "</table>"
      ]
    },
    {
      "cell_type": "code",
      "metadata": {
        "id": "Qe6VBC0Jj4dC",
        "colab": {
          "base_uri": "https://localhost:8080/"
        },
        "outputId": "57575211-8cfc-49b0-f047-c4eacd9d1ac0"
      },
      "source": [
        "import tensorflow as tf\n",
        "print(tf.__version__)"
      ],
      "execution_count": null,
      "outputs": [
        {
          "output_type": "stream",
          "text": [
            "2.4.0\n"
          ],
          "name": "stdout"
        }
      ]
    },
    {
      "cell_type": "code",
      "metadata": {
        "id": "WQF31wmNj4dE"
      },
      "source": [
        "#tf.config.experimental_run_functions_eagerly(True)\n",
        "tf.config.experimental_run_functions_eagerly(True)"
      ],
      "execution_count": null,
      "outputs": []
    },
    {
      "cell_type": "code",
      "metadata": {
        "id": "8Pgp6xm2j4dE",
        "colab": {
          "base_uri": "https://localhost:8080/"
        },
        "outputId": "768372e9-fde0-4ba6-a005-d49c723d0ec1"
      },
      "source": [
        "from tensorflow.compat.v1 import ConfigProto\n",
        "from tensorflow.compat.v1 import InteractiveSession\n",
        "#InteractiveSession.close()\n",
        "config = ConfigProto()\n",
        "config.gpu_options.allow_growth = True\n",
        "session = InteractiveSession(config=config)"
      ],
      "execution_count": null,
      "outputs": [
        {
          "output_type": "stream",
          "text": [
            "/usr/local/lib/python3.6/dist-packages/tensorflow/python/client/session.py:1761: UserWarning: An interactive session is already active. This can cause out-of-memory errors in some cases. You must explicitly call `InteractiveSession.close()` to release resources held by the other session(s).\n",
            "  warnings.warn('An interactive session is already active. This can '\n"
          ],
          "name": "stderr"
        }
      ]
    },
    {
      "cell_type": "code",
      "metadata": {
        "id": "M5i-WeBKj4dF"
      },
      "source": [
        "\n",
        "from tensorflow.keras import backend as K\n",
        "import tensorflow.keras as keras\n",
        "import tensorflow.keras.layers as layers\n",
        "from tensorflow.keras.models import Model"
      ],
      "execution_count": null,
      "outputs": []
    },
    {
      "cell_type": "code",
      "metadata": {
        "id": "NSCVa8jsj4dF"
      },
      "source": [
        "#from keras import backend as K\n",
        "K.clear_session()"
      ],
      "execution_count": null,
      "outputs": []
    },
    {
      "cell_type": "markdown",
      "metadata": {
        "id": "Nfa0sEbwj4dF"
      },
      "source": [
        "# Generating images\n",
        "\n",
        "This notebook contains the second code sample found in Chapter 8, Section 4 of [Deep Learning with Python](https://www.manning.com/books/deep-learning-with-python?a_aid=keras&a_bid=76564dff). Note that the original text features far more content, in particular further explanations and figures: in this notebook, you will only find source code and related comments.\n",
        "\n",
        "---\n",
        "\n",
        "\n",
        "## Variational autoencoders\n",
        "\n",
        "\n",
        "Variational autoencoders, simultaneously discovered by Kingma & Welling in December 2013, and Rezende, Mohamed & Wierstra in January 2014, \n",
        "are a kind of generative model that is especially appropriate for the task of image editing via concept vectors. They are a modern take on \n",
        "autoencoders -- a type of network that aims to \"encode\" an input to a low-dimensional latent space then \"decode\" it back -- that mixes ideas \n",
        "from deep learning with Bayesian inference.\n",
        "\n",
        "A classical image autoencoder takes an image, maps it to a latent vector space via an \"encoder\" module, then decode it back to an output \n",
        "with the same dimensions as the original image, via a \"decoder\" module. It is then trained by using as target data the _same images_ as the \n",
        "input images, meaning that the autoencoder learns to reconstruct the original inputs. By imposing various constraints on the \"code\", i.e. \n",
        "the output of the encoder, one can get the autoencoder to learn more or less interesting latent representations of the data. Most \n",
        "commonly, one would constraint the code to be very low-dimensional and sparse (i.e. mostly zeros), in which case the encoder acts as a way \n",
        "to compress the input data into fewer bits of information."
      ]
    },
    {
      "cell_type": "markdown",
      "metadata": {
        "id": "_y-FzOc-j4dG"
      },
      "source": [
        "![Autoencoder](https://s3.amazonaws.com/book.keras.io/img/ch8/autoencoder.jpg)"
      ]
    },
    {
      "cell_type": "markdown",
      "metadata": {
        "id": "r9W6ASvtj4dG"
      },
      "source": [
        "\n",
        "In practice, such classical autoencoders don't lead to particularly useful or well-structured latent spaces. They're not particularly good \n",
        "at compression, either. For these reasons, they have largely fallen out of fashion over the past years. Variational autoencoders, however, \n",
        "augment autoencoders with a little bit of statistical magic that forces them to learn continuous, highly structured latent spaces. They \n",
        "have turned out to be a very powerful tool for image generation.\n",
        "\n",
        "A VAE, instead of compressing its input image into a fixed \"code\" in the latent space, turns the image into the parameters of a statistical \n",
        "distribution: a mean and a variance. Essentially, this means that we are assuming that the input image has been generated by a statistical \n",
        "process, and that the randomness of this process should be taken into accounting during encoding and decoding. The VAE then uses the mean \n",
        "and variance parameters to randomly sample one element of the distribution, and decodes that element back to the original input. The \n",
        "stochasticity of this process improves robustness and forces the latent space to encode meaningful representations everywhere, i.e. every \n",
        "point sampled in the latent will be decoded to a valid output."
      ]
    },
    {
      "cell_type": "markdown",
      "metadata": {
        "id": "W-7O5qxXj4dG"
      },
      "source": [
        "![VAE](https://s3.amazonaws.com/book.keras.io/img/ch8/vae.png)"
      ]
    },
    {
      "cell_type": "markdown",
      "metadata": {
        "id": "UpUkYoqPj4dG"
      },
      "source": [
        "\n",
        "In technical terms, here is how a variational autoencoder works. First, an encoder module turns the input samples `input_img` into two \n",
        "parameters in a latent space of representations, which we will note `z_mean` and `z_log_variance`. Then, we randomly sample a point `z` \n",
        "from the latent normal distribution that is assumed to generate the input image, via `z = z_mean + exp(z_log_variance) * epsilon`, where \n",
        "epsilon is a random tensor of small values. Finally, a decoder module will map this point in the latent space back to the original input \n",
        "image. Because `epsilon` is random, the process ensures that every point that is close to the latent location where we encoded `input_img` \n",
        "(`z-mean`) can be decoded to something similar to `input_img`, thus forcing the latent space to be continuously meaningful. Any two close \n",
        "points in the latent space will decode to highly similar images. Continuity, combined with the low dimensionality of the latent space, \n",
        "forces every direction in the latent space to encode a meaningful axis of variation of the data, making the latent space very structured \n",
        "and thus highly suitable to manipulation via concept vectors.\n",
        "\n",
        "The parameters of a VAE are trained via two loss functions: first, a reconstruction loss that forces the decoded samples to match the \n",
        "initial inputs, and a regularization loss, which helps in learning well-formed latent spaces and reducing overfitting to the training data.\n",
        "\n",
        "Let's quickly go over a Keras implementation of a VAE. Schematically, it looks like this:"
      ]
    },
    {
      "cell_type": "code",
      "metadata": {
        "id": "RozXE7LQj4dH"
      },
      "source": [
        "# Encode the input into a mean and variance parameter\n",
        "# z_mean, z_log_variance = encoder(input_img)\n",
        "\n",
        "# Draw a latent point using a small random epsilon\n",
        "# z = z_mean + exp(z_log_variance) * epsilon\n",
        "\n",
        "# Then decode z back to an image\n",
        "# reconstructed_img = decoder(z)\n",
        "\n",
        "# Instantiate a model\n",
        "# model = Model(input_img, reconstructed_img)\n",
        "\n",
        "# Then train the model using 2 losses:\n",
        "# a reconstruction loss and a regularization loss"
      ],
      "execution_count": null,
      "outputs": []
    },
    {
      "cell_type": "markdown",
      "metadata": {
        "id": "PPOTk-Odj4dH"
      },
      "source": [
        "Here is the encoder network we will use: a very simple convnet which maps the input image `x` to two vectors, `z_mean` and `z_log_variance`."
      ]
    },
    {
      "cell_type": "code",
      "metadata": {
        "id": "Wv7Vc-aKj4dI"
      },
      "source": [
        "#import keras\n",
        "#from keras import layers\n",
        "#from keras import backend as K\n",
        "#from keras.models import Model\n",
        "import numpy as np\n",
        "import os\n",
        "import sys\n",
        "import glob\n",
        "from tensorflow.keras.preprocessing.image import load_img\n",
        "import matplotlib.pyplot as plt\n",
        "\n",
        "img_shape = (128, 128, 1)\n",
        "batch_size = 128\n",
        "latent_dim = 2  # Dimensionality of the latent space: a plane\n",
        "\n",
        "input_img = keras.Input(shape=img_shape)\n",
        "\n",
        "\n",
        "x = layers.Conv2D(8, 5, padding='same', activation='relu',strides=2)(input_img)\n",
        "x = layers.Conv2D(16, 5, padding='same', activation='relu',strides=2)(x)\n",
        "x = layers.Conv2D(32, 5, padding='same', activation='relu',strides=2)(x)\n",
        "x = layers.Conv2D(64, 5, padding='same', activation='relu',strides=2)(x)\n",
        "x = layers.Flatten()(x)\n",
        "x = layers.Dense(4, activation='relu')(x)\n",
        "z_mean = layers.Dense(latent_dim)(x)\n",
        "z_log_var = layers.Dense(latent_dim)(x)"
      ],
      "execution_count": null,
      "outputs": []
    },
    {
      "cell_type": "markdown",
      "metadata": {
        "id": "GEXEv0Xsj4dI"
      },
      "source": [
        "Here is the code for using `z_mean` and `z_log_var`, the parameters of the statistical distribution assumed to have produced `input_img`, to \n",
        "generate a latent space point `z`. Here, we wrap some arbitrary code (built on top of Keras backend primitives) into a `Lambda` layer. In \n",
        "Keras, everything needs to be a layer, so code that isn't part of a built-in layer should be wrapped in a `Lambda` (or else, in a custom \n",
        "layer)."
      ]
    },
    {
      "cell_type": "code",
      "metadata": {
        "id": "8cU--zrWj4dI"
      },
      "source": [
        "def sampling(args):\n",
        "    z_mean, z_log_var = args\n",
        "    epsilon = K.random_normal(shape=(K.shape(z_mean)[0], latent_dim),\n",
        "                              mean=0., stddev=1.)\n",
        "    return z_mean + K.exp(z_log_var) * epsilon\n",
        "\n",
        "z = layers.Lambda(sampling)([z_mean, z_log_var])"
      ],
      "execution_count": null,
      "outputs": []
    },
    {
      "cell_type": "code",
      "metadata": {
        "id": "hKazFTsYj4dI",
        "colab": {
          "base_uri": "https://localhost:8080/"
        },
        "outputId": "7d5d46c5-1d2d-4be8-8253-b36ea163b223"
      },
      "source": [
        "encoder = keras.Model(input_img, [z_mean, z_log_var, z], name=\"encoder\")\n",
        "encoder.summary()"
      ],
      "execution_count": null,
      "outputs": [
        {
          "output_type": "stream",
          "text": [
            "Model: \"encoder\"\n",
            "__________________________________________________________________________________________________\n",
            "Layer (type)                    Output Shape         Param #     Connected to                     \n",
            "==================================================================================================\n",
            "input_1 (InputLayer)            [(None, 128, 128, 1) 0                                            \n",
            "__________________________________________________________________________________________________\n",
            "conv2d (Conv2D)                 (None, 64, 64, 8)    208         input_1[0][0]                    \n",
            "__________________________________________________________________________________________________\n",
            "conv2d_1 (Conv2D)               (None, 32, 32, 16)   3216        conv2d[0][0]                     \n",
            "__________________________________________________________________________________________________\n",
            "conv2d_2 (Conv2D)               (None, 16, 16, 32)   12832       conv2d_1[0][0]                   \n",
            "__________________________________________________________________________________________________\n",
            "conv2d_3 (Conv2D)               (None, 8, 8, 64)     51264       conv2d_2[0][0]                   \n",
            "__________________________________________________________________________________________________\n",
            "flatten (Flatten)               (None, 4096)         0           conv2d_3[0][0]                   \n",
            "__________________________________________________________________________________________________\n",
            "dense (Dense)                   (None, 4)            16388       flatten[0][0]                    \n",
            "__________________________________________________________________________________________________\n",
            "dense_1 (Dense)                 (None, 2)            10          dense[0][0]                      \n",
            "__________________________________________________________________________________________________\n",
            "dense_2 (Dense)                 (None, 2)            10          dense[0][0]                      \n",
            "__________________________________________________________________________________________________\n",
            "lambda (Lambda)                 (None, 2)            0           dense_1[0][0]                    \n",
            "                                                                 dense_2[0][0]                    \n",
            "==================================================================================================\n",
            "Total params: 83,928\n",
            "Trainable params: 83,928\n",
            "Non-trainable params: 0\n",
            "__________________________________________________________________________________________________\n"
          ],
          "name": "stdout"
        }
      ]
    },
    {
      "cell_type": "markdown",
      "metadata": {
        "id": "m4QHLPPJj4dJ"
      },
      "source": [
        "\n",
        "This is the decoder implementation: we reshape the vector `z` to the dimensions of an image, then we use a few convolution layers to obtain a final \n",
        "image output that has the same dimensions as the original `input_img`."
      ]
    },
    {
      "cell_type": "code",
      "metadata": {
        "id": "KKkA_2WKj4dJ",
        "colab": {
          "base_uri": "https://localhost:8080/"
        },
        "outputId": "3e600e83-80d2-467f-9cab-ce3badbec62a"
      },
      "source": [
        "# This is the input where we will feed `z`.\n",
        "decoder_input = layers.Input(latent_dim)\n",
        "x = layers.Dense(8*8*16,activation='relu')(decoder_input)\n",
        "x = layers.Reshape((8,8,16))(x)\n",
        "x = layers.Conv2DTranspose(64, 5,padding='same', activation='relu',strides=2)(x)\n",
        "x = layers.Conv2DTranspose(32, 5,padding='same', activation='relu',strides=2)(x)\n",
        "x = layers.Conv2DTranspose(16, 5,padding='same', activation='relu',strides=2)(x)\n",
        "x = layers.Conv2DTranspose(8, 5,padding='same', activation='relu',strides=2)(x)\n",
        "\n",
        "decoder_outputs = layers.Conv2DTranspose(1,5,activation=\"sigmoid\",padding=\"same\")(x)\n",
        "decoder = Model(decoder_input, decoder_outputs)\n",
        "decoder.summary()"
      ],
      "execution_count": null,
      "outputs": [
        {
          "output_type": "stream",
          "text": [
            "Model: \"model\"\n",
            "_________________________________________________________________\n",
            "Layer (type)                 Output Shape              Param #   \n",
            "=================================================================\n",
            "input_2 (InputLayer)         [(None, 2)]               0         \n",
            "_________________________________________________________________\n",
            "dense_3 (Dense)              (None, 1024)              3072      \n",
            "_________________________________________________________________\n",
            "reshape (Reshape)            (None, 8, 8, 16)          0         \n",
            "_________________________________________________________________\n",
            "conv2d_transpose (Conv2DTran (None, 16, 16, 64)        25664     \n",
            "_________________________________________________________________\n",
            "conv2d_transpose_1 (Conv2DTr (None, 32, 32, 32)        51232     \n",
            "_________________________________________________________________\n",
            "conv2d_transpose_2 (Conv2DTr (None, 64, 64, 16)        12816     \n",
            "_________________________________________________________________\n",
            "conv2d_transpose_3 (Conv2DTr (None, 128, 128, 8)       3208      \n",
            "_________________________________________________________________\n",
            "conv2d_transpose_4 (Conv2DTr (None, 128, 128, 1)       201       \n",
            "=================================================================\n",
            "Total params: 96,193\n",
            "Trainable params: 96,193\n",
            "Non-trainable params: 0\n",
            "_________________________________________________________________\n"
          ],
          "name": "stdout"
        }
      ]
    },
    {
      "cell_type": "code",
      "metadata": {
        "id": "J5TXmqL_j4dJ"
      },
      "source": [
        "# We then apply it to `z` to recover the decoded `z`.\n",
        "# z_decoded = decoder(z)"
      ],
      "execution_count": null,
      "outputs": []
    },
    {
      "cell_type": "markdown",
      "metadata": {
        "id": "FgqBlMOZj4dJ"
      },
      "source": [
        "The dual loss of a VAE doesn't fit the traditional expectation of a sample-wise function of the form `loss(input, target)`. Thus, we set up \n",
        "the loss by writing a custom layer with internally leverages the built-in `add_loss` layer method to create an arbitrary loss."
      ]
    },
    {
      "cell_type": "code",
      "metadata": {
        "id": "dJsE5T-Zj4dJ"
      },
      "source": [
        "class VAE(keras.Model):\n",
        "    def __init__(self, encoder, decoder, **kwargs):\n",
        "        super(VAE, self).__init__(**kwargs)\n",
        "        self.encoder=encoder\n",
        "        self.decoder=decoder\n",
        "    def train_step(self, data):\n",
        "        if isinstance(data, tuple):\n",
        "            data = data[0]\n",
        "        with tf.GradientTape() as tape:\n",
        "            z_mean, z_log_var, z = encoder(data)\n",
        "            reconstruction = decoder(z)\n",
        "            reconstruction_loss = tf.reduce_mean(\n",
        "                keras.losses.binary_crossentropy(data, reconstruction)\n",
        "            )\n",
        "            reconstruction_loss *= 28*28\n",
        "            kl_loss = 1 + z_log_var - tf.square(z_mean) - tf.exp(z_log_var)\n",
        "            kl_loss = tf.reduce_mean(kl_loss)\n",
        "            kl_loss *= -0.5\n",
        "            total_loss = reconstruction_loss + kl_loss\n",
        "        grads = tape.gradient(total_loss, self.trainable_weights)\n",
        "        self.optimizer.apply_gradients(zip(grads, self.trainable_weights))\n",
        "        return {\n",
        "            \"loss\": total_loss,\n",
        "            \"reconstruction_loss\": reconstruction_loss,\n",
        "            \"kl_loss\": kl_loss,\n",
        "        }"
      ],
      "execution_count": null,
      "outputs": []
    },
    {
      "cell_type": "markdown",
      "metadata": {
        "id": "uS95aDkGj4dK"
      },
      "source": [
        "\n",
        "Finally, we instantiate and train the model. Since the loss has been taken care of in our custom layer, we don't specify an external loss \n",
        "at compile time (`loss=None`), which in turns means that we won't pass target data during training (as you can see we only pass `x_train` \n",
        "to the model in `fit`)."
      ]
    },
    {
      "cell_type": "code",
      "metadata": {
        "colab": {
          "base_uri": "https://localhost:8080/"
        },
        "id": "6ARSOKWvAgrz",
        "outputId": "bbc500d5-68c8-411f-d8d8-b8e9134df1a4"
      },
      "source": [
        "from google.colab import drive # import images from xdrive\r\n",
        "drive.mount('/content/drive')\r\n"
      ],
      "execution_count": null,
      "outputs": [
        {
          "output_type": "stream",
          "text": [
            "Drive already mounted at /content/drive; to attempt to forcibly remount, call drive.mount(\"/content/drive\", force_remount=True).\n"
          ],
          "name": "stdout"
        }
      ]
    },
    {
      "cell_type": "code",
      "metadata": {
        "colab": {
          "base_uri": "https://localhost:8080/"
        },
        "id": "KaQ0xR1GAlA2",
        "outputId": "75185a81-a294-43c7-bff0-58d532c7922b"
      },
      "source": [
        "os.chdir(\"/content/drive/MyDrive/project/fault2d_data\")\r\n",
        "!du -h ../fault2d_data/2D_train\r\n",
        "!du -h ../fault2d_data/2D_validation"
      ],
      "execution_count": null,
      "outputs": [
        {
          "output_type": "stream",
          "text": [
            "5.0K\t../fault2d_data/2D_train/fault/.ipynb_checkpoints\n",
            "2.3M\t../fault2d_data/2D_train/fault\n",
            "56M\t../fault2d_data/2D_train/seis\n",
            "59M\t../fault2d_data/2D_train\n",
            "2.9M\t../fault2d_data/2D_validation/seis\n",
            "218K\t../fault2d_data/2D_validation/fault\n",
            "3.1M\t../fault2d_data/2D_validation\n"
          ],
          "name": "stdout"
        }
      ]
    },
    {
      "cell_type": "code",
      "metadata": {
        "id": "dp2ZsHY5AtmA"
      },
      "source": [
        "# Training set\r\n",
        "folder_train_x = \"../fault2d_data/2D_train/seis/*.png\"\r\n",
        "folder_train_y = \"../fault2d_data/2D_train/fault/*.png\"\r\n",
        "image_size = (128, 128)\r\n"
      ],
      "execution_count": null,
      "outputs": []
    },
    {
      "cell_type": "code",
      "metadata": {
        "id": "44euBMcvA1jP"
      },
      "source": [
        "xfiles = glob.glob(folder_train_x) #get all documents in folder_train_x\r\n",
        "xfiles = np.sort(xfiles)\r\n",
        "train_images = np.array([np.array(load_img(i, color_mode=\"grayscale\")) / 255 for i in xfiles])\r\n",
        "print(train_images.shape)\r\n"
      ],
      "execution_count": null,
      "outputs": []
    },
    {
      "cell_type": "code",
      "metadata": {
        "id": "gXamWjNDJGMZ"
      },
      "source": [
        "def plotImageTransp(file1, k, alpha = 0.2):\r\n",
        "    fig, ax = plt.subplots(nrows=k, ncols=k, figsize=(18, 18))\r\n",
        "    for i in range(k):\r\n",
        "        for j in range(k):\r\n",
        "            ind = np.random.randint(0,file1.shape[0]-1)\r\n",
        "            ax[i,j].imshow(file1[ind], cmap='Greys')\r\n",
        "            ax[i,j].set_axis_off()\r\n",
        "    fig.subplots_adjust(wspace = -0.15, hspace = 0.02)\r\n",
        "    return(fig)"
      ],
      "execution_count": null,
      "outputs": []
    },
    {
      "cell_type": "code",
      "metadata": {
        "id": "bnf6OF8IJKi2"
      },
      "source": [
        "fig = plotImageTransp(train_images, k = 6) "
      ],
      "execution_count": null,
      "outputs": []
    },
    {
      "cell_type": "code",
      "metadata": {
        "id": "9UVotn99T6yU"
      },
      "source": [
        "train_images = np.expand_dims(train_images, -1).astype(\"float32\")\r\n",
        "print(train_images.shape)"
      ],
      "execution_count": null,
      "outputs": []
    },
    {
      "cell_type": "code",
      "metadata": {
        "id": "88b7HCN1j4dK"
      },
      "source": [
        "vae = VAE(encoder, decoder)\n",
        "vae.compile(optimizer=keras.optimizers.Adam())\n",
        "vae.fit(train_images, epochs=30, batch_size=128)"
      ],
      "execution_count": null,
      "outputs": []
    },
    {
      "cell_type": "markdown",
      "metadata": {
        "id": "QXzEyMqrj4dL"
      },
      "source": [
        "\n",
        "Once such a model is trained -- e.g. on MNIST, in our case -- we can use the `decoder` network to turn arbitrary latent space vectors into \n",
        "images:"
      ]
    },
    {
      "cell_type": "code",
      "metadata": {
        "id": "_Sz5MJ2Lj4dL"
      },
      "source": [
        "import matplotlib.pyplot as plt\n",
        "from scipy.stats import norm\n",
        "\n",
        "# Display a 2D manifold of the digits\n",
        "n = 6  # figure with 15x15 digits\n",
        "digit_size = 128\n",
        "figure = np.zeros((digit_size * n, digit_size * n))\n",
        "# Linearly spaced coordinates on the unit square were transformed\n",
        "# through the inverse CDF (ppf) of the Gaussian\n",
        "# to produce values of the latent variables z,\n",
        "# since the prior of the latent space is Gaussian\n",
        "grid_x = norm.ppf(np.linspace(0.01, 0.95, n))\n",
        "grid_y = norm.ppf(np.linspace(0.01, 0.95, n))\n",
        "\n",
        "for i, yi in enumerate(grid_x):\n",
        "    for j, xi in enumerate(grid_y):\n",
        "        z_sample = np.array([[xi, yi]])\n",
        "        z_sample = np.tile(z_sample, batch_size).reshape(batch_size, 2)\n",
        "        x_decoded = decoder.predict(z_sample, batch_size=batch_size)\n",
        "        digit = x_decoded[0].reshape(digit_size, digit_size)\n",
        "        figure[i * digit_size: (i + 1) * digit_size,\n",
        "               j * digit_size: (j + 1) * digit_size] = digit\n",
        "\n",
        "plt.figure(figsize=(20, 20))\n",
        "plt.imshow(figure, cmap='Greys_r')\n",
        "plt.show()"
      ],
      "execution_count": null,
      "outputs": []
    },
    {
      "cell_type": "markdown",
      "metadata": {
        "id": "PyTD72JZj4dL"
      },
      "source": [
        "The grid of sampled digits shows a completely continuous distribution of the different digit classes, with one digit morphing into another \n",
        "as you follow a path through latent space. Specific directions in this space have a meaning, e.g. there is a direction for \"four-ness\", \n",
        "\"one-ness\", etc."
      ]
    },
    {
      "cell_type": "code",
      "metadata": {
        "id": "Feof1_eEj4dL"
      },
      "source": [
        "train_images = np.squeeze(train_images).astype(\"float32\")\r\n",
        "print(decoder)"
      ],
      "execution_count": null,
      "outputs": []
    },
    {
      "cell_type": "code",
      "metadata": {
        "id": "6sxUJtHti0x8"
      },
      "source": [
        "fig = plotImageTransp(train_images, k = 6) "
      ],
      "execution_count": null,
      "outputs": []
    }
  ]
}